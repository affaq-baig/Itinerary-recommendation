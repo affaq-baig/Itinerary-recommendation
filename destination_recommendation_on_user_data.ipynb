{
  "nbformat": 4,
  "nbformat_minor": 0,
  "metadata": {
    "colab": {
      "provenance": [],
      "toc_visible": true
    },
    "kernelspec": {
      "name": "python3",
      "display_name": "Python 3"
    },
    "language_info": {
      "name": "python"
    }
  },
  "cells": [
    {
      "cell_type": "code",
      "execution_count": null,
      "metadata": {
        "colab": {
          "base_uri": "https://localhost:8080/"
        },
        "id": "0SFyQYmEkBHS",
        "outputId": "e0c99925-68d4-4506-862f-96fe6c484615"
      },
      "outputs": [
        {
          "output_type": "stream",
          "name": "stdout",
          "text": [
            "Collecting scikit-surprise\n",
            "  Downloading scikit-surprise-1.1.3.tar.gz (771 kB)\n",
            "\u001b[2K     \u001b[90m━━━━━━━━━━━━━━━━━━━━━━━━━━━━━━━━━━━━━━━━\u001b[0m \u001b[32m772.0/772.0 kB\u001b[0m \u001b[31m6.6 MB/s\u001b[0m eta \u001b[36m0:00:00\u001b[0m\n",
            "\u001b[?25h  Preparing metadata (setup.py) ... \u001b[?25l\u001b[?25hdone\n",
            "Requirement already satisfied: joblib>=1.0.0 in /usr/local/lib/python3.10/dist-packages (from scikit-surprise) (1.3.2)\n",
            "Requirement already satisfied: numpy>=1.17.3 in /usr/local/lib/python3.10/dist-packages (from scikit-surprise) (1.23.5)\n",
            "Requirement already satisfied: scipy>=1.3.2 in /usr/local/lib/python3.10/dist-packages (from scikit-surprise) (1.11.3)\n",
            "Building wheels for collected packages: scikit-surprise\n",
            "  Building wheel for scikit-surprise (setup.py) ... \u001b[?25l\u001b[?25hdone\n",
            "  Created wheel for scikit-surprise: filename=scikit_surprise-1.1.3-cp310-cp310-linux_x86_64.whl size=3163483 sha256=24faf9d217dbd4ec922dfddb340e050ea836774702b43e3d042811b11616aa14\n",
            "  Stored in directory: /root/.cache/pip/wheels/a5/ca/a8/4e28def53797fdc4363ca4af740db15a9c2f1595ebc51fb445\n",
            "Successfully built scikit-surprise\n",
            "Installing collected packages: scikit-surprise\n",
            "Successfully installed scikit-surprise-1.1.3\n"
          ]
        }
      ],
      "source": [
        "pip install scikit-surprise"
      ]
    },
    {
      "cell_type": "code",
      "source": [
        "import pandas as pd\n",
        "from surprise import Dataset, Reader\n",
        "from surprise.model_selection import train_test_split\n",
        "from surprise import KNNBasic"
      ],
      "metadata": {
        "id": "6iIsCzlZkNKU"
      },
      "execution_count": null,
      "outputs": []
    },
    {
      "cell_type": "code",
      "source": [
        "import pandas as pd\n",
        "from surprise import Dataset, Reader\n",
        "from surprise.model_selection import train_test_split\n",
        "from surprise import KNNBasic\n",
        "\n",
        "# Load your dataset\n",
        "df = pd.read_csv('/content/data6.csv')\n",
        "\n",
        "# Display the first few rows of the dataset\n",
        "print(\"Data Head:\")\n",
        "print(df.head())\n",
        "\n",
        "# Load data into Surprise format\n",
        "reader = Reader(rating_scale=(1, 5))\n",
        "data = Dataset.load_from_df(df[['user_id', 'destination', 'rating']], reader)\n",
        "\n",
        "# Build a user-based collaborative filtering model\n",
        "model = KNNBasic(sim_options={'user_based': True})\n",
        "trainset = data.build_full_trainset()\n",
        "model.fit(trainset)\n",
        "\n",
        "# Prompt user for their user ID\n",
        "print(\"Please enter your user ID:\")\n",
        "user_id = int(input())\n",
        "\n",
        "# Prompt user for their preferred category\n",
        "print(\"Please enter your preferred category of travel (e.g., Historical, Adventure, Scenic Spot):\")\n",
        "user_category_input = input()\n",
        "\n",
        "# Filter destinations based on the user's preferred category\n",
        "category_destinations = df[df['category'] == user_category_input]['destination'].unique()\n",
        "\n",
        "# Check if there are destinations in the preferred category\n",
        "if not category_destinations.any():\n",
        "    print(f\"No destinations found in the category: {user_category_input}\")\n",
        "else:\n",
        "    # Get recommendations for the user in the preferred category\n",
        "    user_destinations = df[df['user_id'] == user_id]['destination'].tolist()\n",
        "    unseen_destinations = [destination for destination in category_destinations if destination not in user_destinations]\n",
        "\n",
        "    # Predict ratings for unseen destinations in the preferred category\n",
        "    predictions = [(destination, model.predict(user_id, destination).est) for destination in unseen_destinations]\n",
        "\n",
        "    # Sort predictions by estimated rating in descending order\n",
        "    sorted_predictions = sorted(predictions, key=lambda x: x[1], reverse=True)\n",
        "\n",
        "    # Get top-N recommended destinations in the preferred category\n",
        "    top_recommendations = sorted_predictions[:5]\n",
        "    print(f\"Top Recommendations in the category {user_category_input}:\")\n",
        "    for recommendation in top_recommendations:\n",
        "        print(f\"- {recommendation[0]} (Estimated Rating: {recommendation[1]:.2f})\")\n"
      ],
      "metadata": {
        "colab": {
          "base_uri": "https://localhost:8080/"
        },
        "id": "INloVeZykPy6",
        "outputId": "50f15ea7-d683-46a4-d0d3-e5198dca01ff"
      },
      "execution_count": null,
      "outputs": [
        {
          "output_type": "stream",
          "name": "stdout",
          "text": [
            "Data Head:\n",
            "   user_id       destination  rating    category\n",
            "0        1  Karimabad Bazaar     4.5      Market\n",
            "1        1      Eagle's Nest     4.2      Hiking\n",
            "2        1        Altit Fort     3.8  Historical\n",
            "3        2    Hopper Glacier     4.0    Trekking\n",
            "4        2         Ultar Sar     4.6    Mountain\n",
            "Computing the msd similarity matrix...\n",
            "Done computing similarity matrix.\n",
            "Please enter your user ID:\n",
            "6\n",
            "Please enter your preferred category of travel (e.g., Historical, Adventure, Scenic Spot):\n",
            "Adventure\n",
            "Top Recommendations in the category Adventure:\n",
            "- Husseini Suspension Bridge (Estimated Rating: 4.14)\n"
          ]
        }
      ]
    },
    {
      "cell_type": "code",
      "source": [
        "reader = Reader(rating_scale=(1, 5))\n",
        "data = Dataset.load_from_df(df[['user_id', 'destination', 'rating']], reader)\n"
      ],
      "metadata": {
        "id": "Q1Z-FkxZlZyU"
      },
      "execution_count": null,
      "outputs": []
    },
    {
      "cell_type": "code",
      "source": [
        "# Build a user-based collaborative filtering model\n",
        "model = KNNBasic(sim_options={'user_based': True})\n",
        "trainset = data.build_full_trainset()\n",
        "model.fit(trainset)\n"
      ],
      "metadata": {
        "colab": {
          "base_uri": "https://localhost:8080/"
        },
        "id": "olIKhIO2kKbV",
        "outputId": "90d197c4-02f2-45eb-810f-4b1f14f0dce6"
      },
      "execution_count": null,
      "outputs": [
        {
          "output_type": "stream",
          "name": "stdout",
          "text": [
            "Computing the msd similarity matrix...\n",
            "Done computing similarity matrix.\n"
          ]
        },
        {
          "output_type": "execute_result",
          "data": {
            "text/plain": [
              "<surprise.prediction_algorithms.knns.KNNBasic at 0x7acb8da4d8a0>"
            ]
          },
          "metadata": {},
          "execution_count": 11
        }
      ]
    },
    {
      "cell_type": "code",
      "source": [
        "print(\"Data Head:\")\n",
        "print(df.head())"
      ],
      "metadata": {
        "colab": {
          "base_uri": "https://localhost:8080/"
        },
        "id": "dhjxgAZzlipX",
        "outputId": "c205cca3-d3ee-4219-cc0e-b97ff5926a4f"
      },
      "execution_count": null,
      "outputs": [
        {
          "output_type": "stream",
          "name": "stdout",
          "text": [
            "Data Head:\n",
            "   user_id       destination  rating    category\n",
            "0        1  Karimabad Bazaar     4.5      Market\n",
            "1        1      Eagle's Nest     4.2      Hiking\n",
            "2        1        Altit Fort     3.8  Historical\n",
            "3        2    Hopper Glacier     4.0    Trekking\n",
            "4        2         Ultar Sar     4.6    Mountain\n"
          ]
        }
      ]
    },
    {
      "cell_type": "code",
      "source": [],
      "metadata": {
        "id": "Dq3gIpVTl2b_"
      },
      "execution_count": null,
      "outputs": []
    }
  ]
}