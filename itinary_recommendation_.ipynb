{
  "nbformat": 4,
  "nbformat_minor": 0,
  "metadata": {
    "colab": {
      "provenance": [],
      "authorship_tag": "ABX9TyNJJuc9qNOtD7SaQhhytoB6",
      "include_colab_link": true
    },
    "kernelspec": {
      "name": "python3",
      "display_name": "Python 3"
    },
    "language_info": {
      "name": "python"
    }
  },
  "cells": [
    {
      "cell_type": "markdown",
      "metadata": {
        "id": "view-in-github",
        "colab_type": "text"
      },
      "source": [
        "<a href=\"https://colab.research.google.com/github/affaq-baig/Itinerary-recommendation/blob/main/itinary_recommendation_.ipynb\" target=\"_parent\"><img src=\"https://colab.research.google.com/assets/colab-badge.svg\" alt=\"Open In Colab\"/></a>"
      ]
    },
    {
      "cell_type": "code",
      "source": [
        "pip install scikit-surprise"
      ],
      "metadata": {
        "colab": {
          "base_uri": "https://localhost:8080/"
        },
        "id": "HjL_c5Rxq70Z",
        "outputId": "f437808a-9af4-438f-84e3-fc52cc7d0b8b"
      },
      "execution_count": null,
      "outputs": [
        {
          "output_type": "stream",
          "name": "stdout",
          "text": [
            "Collecting scikit-surprise\n",
            "  Downloading scikit-surprise-1.1.3.tar.gz (771 kB)\n",
            "\u001b[?25l     \u001b[90m━━━━━━━━━━━━━━━━━━━━━━━━━━━━━━━━━━━━━━━━\u001b[0m \u001b[32m0.0/772.0 kB\u001b[0m \u001b[31m?\u001b[0m eta \u001b[36m-:--:--\u001b[0m\r\u001b[2K     \u001b[91m━━━━━━━━━━\u001b[0m\u001b[90m╺\u001b[0m\u001b[90m━━━━━━━━━━━━━━━━━━━━━━━━━━━━━\u001b[0m \u001b[32m194.6/772.0 kB\u001b[0m \u001b[31m5.7 MB/s\u001b[0m eta \u001b[36m0:00:01\u001b[0m\r\u001b[2K     \u001b[90m━━━━━━━━━━━━━━━━━━━━━━━━━━━━━━━━━━━━━━━━\u001b[0m \u001b[32m772.0/772.0 kB\u001b[0m \u001b[31m12.1 MB/s\u001b[0m eta \u001b[36m0:00:00\u001b[0m\n",
            "\u001b[?25h  Preparing metadata (setup.py) ... \u001b[?25l\u001b[?25hdone\n",
            "Requirement already satisfied: joblib>=1.0.0 in /usr/local/lib/python3.10/dist-packages (from scikit-surprise) (1.3.2)\n",
            "Requirement already satisfied: numpy>=1.17.3 in /usr/local/lib/python3.10/dist-packages (from scikit-surprise) (1.23.5)\n",
            "Requirement already satisfied: scipy>=1.3.2 in /usr/local/lib/python3.10/dist-packages (from scikit-surprise) (1.11.3)\n",
            "Building wheels for collected packages: scikit-surprise\n",
            "  Building wheel for scikit-surprise (setup.py) ... \u001b[?25l\u001b[?25hdone\n",
            "  Created wheel for scikit-surprise: filename=scikit_surprise-1.1.3-cp310-cp310-linux_x86_64.whl size=3163478 sha256=9170140ee4c38b3038404c4dfb052c4b4b753907d1805b6270f023eb442c3cb1\n",
            "  Stored in directory: /root/.cache/pip/wheels/a5/ca/a8/4e28def53797fdc4363ca4af740db15a9c2f1595ebc51fb445\n",
            "Successfully built scikit-surprise\n",
            "Installing collected packages: scikit-surprise\n",
            "Successfully installed scikit-surprise-1.1.3\n"
          ]
        }
      ]
    },
    {
      "cell_type": "code",
      "source": [
        "import pandas as pd\n",
        "from surprise import Dataset, Reader\n",
        "from surprise.model_selection import train_test_split\n",
        "from surprise import KNNBasic\n",
        "\n",
        "# Load your dataset\n",
        "df = pd.read_csv('/content/data6.csv')\n",
        "\n",
        "# Display the first few rows of the dataset\n",
        "print(\"Data Head:\")\n",
        "print(df.head())\n",
        "\n",
        "# Load data into Surprise format\n",
        "reader = Reader(rating_scale=(1, 5))\n",
        "data = Dataset.load_from_df(df[['user_id', 'destination', 'rating']], reader)\n",
        "\n",
        "# Build a user-based collaborative filtering model\n",
        "model = KNNBasic(sim_options={'user_based': True})\n",
        "trainset = data.build_full_trainset()\n",
        "model.fit(trainset)\n",
        "\n",
        "# Prompt new user for their preferences\n",
        "print(\"Please enter your preferred category of travel (e.g., Historical, Adventure, Scenic Spot):\")\n",
        "user_category_input = input()\n",
        "\n",
        "# Assume a new user has a user_id of -1 (replace with an appropriate strategy)\n",
        "new_user_id = -1\n",
        "\n",
        "# Check if the new user's preferences exist in the dataset\n",
        "existing_preferences = set(df[df['user_id'] == new_user_id]['destination'].unique()).intersection(set(df[df['category'] == user_category_input]['destination'].unique()))\n",
        "\n",
        "# Add new ratings to the original dataset only for unseen destinations\n",
        "new_ratings = [(new_user_id, destination, 0) for destination in df[df['category'] == user_category_input]['destination'].unique() if destination not in existing_preferences]\n",
        "\n",
        "# Handle the case where all destinations are already rated\n",
        "if not new_ratings:\n",
        "    print(\"All destinations in the preferred category are already rated by the new user.\")\n",
        "else:\n",
        "    # Add new ratings to the dataset\n",
        "    df = pd.concat([df, pd.DataFrame(new_ratings, columns=['user_id', 'destination', 'rating'])], ignore_index=True)\n",
        "\n",
        "    # Load updated data into Surprise format\n",
        "    data = Dataset.load_from_df(df[['user_id', 'destination', 'rating']], reader)\n",
        "\n",
        "    # Build a new user-based collaborative filtering model with the updated data\n",
        "    trainset = data.build_full_trainset()\n",
        "    model.fit(trainset)\n",
        "\n",
        "    # Get recommendations for the new user\n",
        "    unseen_destinations = df[df['user_id'] == new_user_id]['destination'].unique()\n",
        "    predictions = [(destination, model.predict(new_user_id, destination).est) for destination in unseen_destinations]\n",
        "\n",
        "    # Sort predictions by estimated rating in descending order\n",
        "    sorted_predictions = sorted(predictions, key=lambda x: x[1], reverse=True)\n",
        "\n",
        "    # Get top-N recommended destinations\n",
        "    top_recommendations = sorted_predictions[:5]\n",
        "    print(f\"Top Recommendations for the new user in the category {user_category_input}:\")\n",
        "    for recommendation in top_recommendations:\n",
        "        print(f\"- {recommendation[0]} (Estimated Rating: {recommendation[1]:.2f})\")\n"
      ],
      "metadata": {
        "colab": {
          "base_uri": "https://localhost:8080/"
        },
        "id": "tRfCin_Xqtja",
        "outputId": "c1e95d78-9895-46bc-e1f4-29cf7326352e"
      },
      "execution_count": null,
      "outputs": [
        {
          "output_type": "stream",
          "name": "stdout",
          "text": [
            "Data Head:\n",
            "   user_id       destination  rating    category\n",
            "0        1  Karimabad Bazaar     4.5      Market\n",
            "1        1      Eagle's Nest     4.2      Hiking\n",
            "2        1        Altit Fort     3.8  Historical\n",
            "3        2    Hopper Glacier     4.0    Trekking\n",
            "4        2         Ultar Sar     4.6    Mountain\n",
            "Computing the msd similarity matrix...\n",
            "Done computing similarity matrix.\n",
            "Please enter your preferred category of travel (e.g., Historical, Adventure, Scenic Spot):\n",
            "Historical\n",
            "Computing the msd similarity matrix...\n",
            "Done computing similarity matrix.\n",
            "Top Recommendations for the new user in the category Historical:\n",
            "- Altit Fort (Estimated Rating: 1.00)\n",
            "- Baltit Fort (Estimated Rating: 1.00)\n",
            "- Pakistan Monument (Estimated Rating: 1.00)\n",
            "- Khaplu Fort (Estimated Rating: 1.00)\n",
            "- Shigar Fort (Estimated Rating: 1.00)\n"
          ]
        }
      ]
    },
    {
      "cell_type": "code",
      "source": [
        "import pandas as pd\n",
        "from surprise import Dataset, Reader\n",
        "from surprise.model_selection import train_test_split\n",
        "from surprise import KNNBasic\n",
        "\n",
        "# Load your dataset\n",
        "df = pd.read_csv('/content/data6.csv')\n",
        "\n",
        "# Display the first few rows of the dataset\n",
        "print(\"Data Head:\")\n",
        "print(df.head())\n",
        "\n",
        "# Load data into Surprise format\n",
        "reader = Reader(rating_scale=(1, 5))\n",
        "data = Dataset.load_from_df(df[['user_id', 'destination', 'rating']], reader)\n",
        "\n",
        "# Build a user-based collaborative filtering model\n",
        "model = KNNBasic(sim_options={'user_based': True})\n",
        "trainset = data.build_full_trainset()\n",
        "model.fit(trainset)\n",
        "\n",
        "# Prompt user for their preferred category\n",
        "print(\"Please enter your preferred category of travel (e.g., Historical, Adventure, Scenic Spot):\")\n",
        "user_category_input = input()\n",
        "\n",
        "# Prompt user for the number of days they want to travel\n",
        "num_days = int(input(\"How many days do you want to travel? \"))\n",
        "\n",
        "# Filter destinations based on the user's preferred category\n",
        "category_destinations = df[df['category'] == user_category_input]['destination'].unique()\n",
        "\n",
        "# Check if there are destinations in the preferred category\n",
        "if not category_destinations.any():\n",
        "    print(f\"No destinations found in the category: {user_category_input}\")\n",
        "else:\n",
        "    # Get the mean rating of the preferred category\n",
        "    category_mean_rating = df[df['category'] == user_category_input]['rating'].mean()\n",
        "\n",
        "    # Get recommendations for the user in the preferred category\n",
        "    unseen_destinations = [destination for destination in category_destinations if destination not in df['destination'].unique()]\n",
        "\n",
        "    # Predict ratings for unseen destinations in the preferred category\n",
        "    predictions = [(destination, model.predict(0, destination).est if destination in unseen_destinations else category_mean_rating) for destination in category_destinations]\n",
        "\n",
        "    # Sort predictions by estimated rating in descending order\n",
        "    sorted_predictions = sorted(predictions, key=lambda x: x[1], reverse=True)\n",
        "\n",
        "    # Get top-N recommended destinations in the preferred category\n",
        "    top_recommendations = sorted_predictions[:num_days]  # Adjust the number of recommendations based on the user's input\n",
        "    print(f\"\\nTop {num_days} Recommendations in the category {user_category_input} for a {num_days}-day itinerary:\")\n",
        "    for recommendation in top_recommendations:\n",
        "        print(f\"- {recommendation[0]} (Estimated Rating: {recommendation[1]:.2f})\")\n"
      ],
      "metadata": {
        "colab": {
          "base_uri": "https://localhost:8080/"
        },
        "id": "fANDe_Izq6UK",
        "outputId": "42f6e29f-e7dd-4260-85f9-59f84353c3e2"
      },
      "execution_count": null,
      "outputs": [
        {
          "output_type": "stream",
          "name": "stdout",
          "text": [
            "Data Head:\n",
            "   user_id       destination  rating    category\n",
            "0        1  Karimabad Bazaar     4.5      Market\n",
            "1        1      Eagle's Nest     4.2      Hiking\n",
            "2        1        Altit Fort     3.8  Historical\n",
            "3        2    Hopper Glacier     4.0    Trekking\n",
            "4        2         Ultar Sar     4.6    Mountain\n",
            "Computing the msd similarity matrix...\n",
            "Done computing similarity matrix.\n",
            "Please enter your preferred category of travel (e.g., Historical, Adventure, Scenic Spot):\n",
            "Mountain\n",
            "How many days do you want to travel? 7\n",
            "\n",
            "Top 7 Recommendations in the category Mountain for a 7-day itinerary:\n",
            "- Ultar Sar (Estimated Rating: 4.34)\n",
            "- Khunjerab Pass (Estimated Rating: 4.34)\n",
            "- Spantik Peak (Estimated Rating: 4.34)\n",
            "- Mustansar (Estimated Rating: 4.34)\n",
            "- Karakoram Range (Estimated Rating: 4.34)\n",
            "- Siafu Sar (Estimated Rating: 4.34)\n",
            "- Trango Towers (Estimated Rating: 4.34)\n"
          ]
        }
      ]
    },
    {
      "cell_type": "code",
      "execution_count": null,
      "metadata": {
        "colab": {
          "base_uri": "https://localhost:8080/"
        },
        "id": "0seQf9sgn_hU",
        "outputId": "e4c7f0a9-f059-47f3-eceb-5a1784a5dc35"
      },
      "outputs": [
        {
          "output_type": "stream",
          "name": "stdout",
          "text": [
            "Data Head:\n",
            "   user_id       destination  rating    category\n",
            "0        1  Karimabad Bazaar     4.5      Market\n",
            "1        1      Eagle's Nest     4.2      Hiking\n",
            "2        1        Altit Fort     3.8  Historical\n",
            "3        2    Hopper Glacier     4.0    Trekking\n",
            "4        2         Ultar Sar     4.6    Mountain\n",
            "Computing the msd similarity matrix...\n",
            "Done computing similarity matrix.\n",
            "Please enter your preferred category of travel (e.g., Historical, Adventure, Scenic Spot):\n",
            "Mountain\n",
            "How many days do you want to travel? 7\n",
            "\n",
            "Itinerary for 7-day trip in the category Mountain:\n",
            "Day 1: Ultar Sar (Estimated Rating: 4.34)\n",
            "Day 2: Khunjerab Pass (Estimated Rating: 4.34)\n",
            "Day 3: Spantik Peak (Estimated Rating: 4.34)\n",
            "Day 4: Mustansar (Estimated Rating: 4.34)\n",
            "Day 5: Karakoram Range (Estimated Rating: 4.34)\n",
            "Day 6: Siafu Sar (Estimated Rating: 4.34)\n",
            "Day 7: Trango Towers (Estimated Rating: 4.34)\n"
          ]
        }
      ],
      "source": [
        "import pandas as pd\n",
        "from surprise import Dataset, Reader\n",
        "from surprise.model_selection import train_test_split\n",
        "from surprise import KNNBasic\n",
        "\n",
        "# Load your dataset\n",
        "df = pd.read_csv('/content/data6.csv')\n",
        "\n",
        "# Display the first few rows of the dataset\n",
        "print(\"Data Head:\")\n",
        "print(df.head())\n",
        "\n",
        "# Load data into Surprise format\n",
        "reader = Reader(rating_scale=(1, 5))\n",
        "data = Dataset.load_from_df(df[['user_id', 'destination', 'rating']], reader)\n",
        "\n",
        "# Build a user-based collaborative filtering model\n",
        "model = KNNBasic(sim_options={'user_based': True})\n",
        "trainset = data.build_full_trainset()\n",
        "model.fit(trainset)\n",
        "\n",
        "# Prompt user for their preferred category\n",
        "print(\"Please enter your preferred category of travel (e.g., Historical, Adventure, Scenic Spot):\")\n",
        "user_category_input = input()\n",
        "\n",
        "# Prompt user for the number of days they want to travel\n",
        "num_days = int(input(\"How many days do you want to travel? \"))\n",
        "\n",
        "# Filter destinations based on the user's preferred category\n",
        "category_destinations = df[df['category'] == user_category_input]['destination'].unique()\n",
        "\n",
        "# Check if there are destinations in the preferred category\n",
        "if not category_destinations.any():\n",
        "    print(f\"No destinations found in the category: {user_category_input}\")\n",
        "else:\n",
        "    # Get the mean rating of the preferred category\n",
        "    category_mean_rating = df[df['category'] == user_category_input]['rating'].mean()\n",
        "\n",
        "    # Get recommendations for the user in the preferred category\n",
        "    unseen_destinations = [destination for destination in category_destinations if destination not in df['destination'].unique()]\n",
        "\n",
        "    # Predict ratings for unseen destinations in the preferred category\n",
        "    predictions = [(destination, model.predict(0, destination).est if destination in unseen_destinations else category_mean_rating) for destination in category_destinations]\n",
        "\n",
        "    # Sort predictions by estimated rating in descending order\n",
        "    sorted_predictions = sorted(predictions, key=lambda x: x[1], reverse=True)\n",
        "\n",
        "    # Get top-N recommended destinations in the preferred category\n",
        "    top_recommendations = sorted_predictions[:num_days]  # Adjust the number of recommendations based on the user's input\n",
        "\n",
        "    # Organize recommendations day by day\n",
        "    itinerary = {}\n",
        "    for day, recommendation in enumerate(top_recommendations, start=1):\n",
        "        itinerary[f\"Day {day}\"] = {\"Destination\": recommendation[0], \"Estimated Rating\": recommendation[1]}\n",
        "\n",
        "    print(f\"\\nItinerary for {num_days}-day trip in the category {user_category_input}:\")\n",
        "    for day, details in itinerary.items():\n",
        "        print(f\"{day}: {details['Destination']} (Estimated Rating: {details['Estimated Rating']:.2f})\")\n"
      ]
    },
    {
      "cell_type": "code",
      "source": [
        "import pandas as pd\n",
        "from surprise import Dataset, Reader\n",
        "from surprise.model_selection import train_test_split\n",
        "from surprise import KNNBasic\n",
        "\n",
        "# Load your dataset\n",
        "df = pd.read_csv('/content/data6.csv')\n",
        "\n",
        "# Display the first few rows of the dataset\n",
        "print(\"Data Head:\")\n",
        "print(df.head())\n",
        "\n",
        "# Load data into Surprise format\n",
        "reader = Reader(rating_scale=(1, 5))\n",
        "data = Dataset.load_from_df(df[['user_id', 'destination', 'rating']], reader)\n",
        "\n",
        "# Build a user-based collaborative filtering model\n",
        "model = KNNBasic(sim_options={'user_based': True})\n",
        "trainset = data.build_full_trainset()\n",
        "model.fit(trainset)\n",
        "\n",
        "# Prompt user for their preferred category\n",
        "print(\"Please enter your preferred category of travel (e.g., Historical, Adventure, Scenic Spot):\")\n",
        "user_category_input = input()\n",
        "\n",
        "# Prompt user for the number of days they want to travel\n",
        "num_days = int(input(\"How many days do you want to travel? \"))\n",
        "\n",
        "# Filter destinations based on the user's preferred category\n",
        "category_destinations = df[df['category'] == user_category_input]['destination'].unique()\n",
        "\n",
        "# Check if there are destinations in the preferred category\n",
        "if not category_destinations.any():\n",
        "    print(f\"No destinations found in the category: {user_category_input}\")\n",
        "else:\n",
        "    # Get the mean rating of the preferred category\n",
        "    category_mean_rating = df[df['category'] == user_category_input]['rating'].mean()\n",
        "\n",
        "    # Get recommendations for the user in the preferred category\n",
        "    unseen_destinations = [destination for destination in category_destinations if destination not in df['destination'].unique()]\n",
        "\n",
        "    # Predict ratings for unseen destinations in the preferred category\n",
        "    predictions = [(destination, model.predict(0, destination).est if destination in unseen_destinations else category_mean_rating) for destination in category_destinations]\n",
        "\n",
        "    # Sort predictions by estimated rating in descending order\n",
        "    sorted_predictions = sorted(predictions, key=lambda x: x[1], reverse=True)\n",
        "\n",
        "    # Get top-N recommended destinations in the preferred category\n",
        "    top_recommendations = sorted_predictions[:min(num_days * 4, len(sorted_predictions))]  # Adjust the number of recommendations based on the user's input\n",
        "\n",
        "    # Organize recommendations day by day\n",
        "    itinerary = {}\n",
        "    for day, recommendation in enumerate(top_recommendations, start=1):\n",
        "        if day <= num_days:\n",
        "            itinerary[f\"Day {day}\"] = {\"Destination\": recommendation[0], \"Estimated Rating\": recommendation[1]}\n",
        "\n",
        "    print(f\"\\nItinerary for {num_days}-day trip in the category {user_category_input}:\")\n",
        "    for day, details in itinerary.items():\n",
        "        print(f\"{day}: {details['Destination']} (Estimated Rating: {details['Estimated Rating']:.2f})\")\n"
      ],
      "metadata": {
        "colab": {
          "base_uri": "https://localhost:8080/"
        },
        "id": "e1bxijL2qpqP",
        "outputId": "61ba7648-7067-4223-fd58-0990d00c3b83"
      },
      "execution_count": null,
      "outputs": [
        {
          "output_type": "stream",
          "name": "stdout",
          "text": [
            "Data Head:\n",
            "   user_id       destination  rating    category\n",
            "0        1  Karimabad Bazaar     4.5      Market\n",
            "1        1      Eagle's Nest     4.2      Hiking\n",
            "2        1        Altit Fort     3.8  Historical\n",
            "3        2    Hopper Glacier     4.0    Trekking\n",
            "4        2         Ultar Sar     4.6    Mountain\n",
            "Computing the msd similarity matrix...\n",
            "Done computing similarity matrix.\n",
            "Please enter your preferred category of travel (e.g., Historical, Adventure, Scenic Spot):\n",
            "Scenic Spot\n",
            "How many days do you want to travel? 88\n",
            "\n",
            "Itinerary for 88-day trip in the category Scenic Spot:\n",
            "Day 1: Rakaposhi View Point (Estimated Rating: 4.29)\n",
            "Day 2: Attabad Lake (Estimated Rating: 4.29)\n",
            "Day 3: Passu Cones (Estimated Rating: 4.29)\n",
            "Day 4: Hunza River (Estimated Rating: 4.29)\n",
            "Day 5: Cherry Blossom Point (Estimated Rating: 4.29)\n",
            "Day 6: Karakoram Highway (Estimated Rating: 4.29)\n",
            "Day 7: Khunjerab Pass (Estimated Rating: 4.29)\n",
            "Day 8: Deosai Plains (Estimated Rating: 4.29)\n",
            "Day 9: Sheosar Lake (Estimated Rating: 4.29)\n",
            "Day 10: K2 View Point (Estimated Rating: 4.29)\n",
            "Day 11: Gilgit River (Estimated Rating: 4.29)\n",
            "Day 12: Shigar River (Estimated Rating: 4.29)\n"
          ]
        }
      ]
    },
    {
      "cell_type": "code",
      "source": [
        "\n"
      ],
      "metadata": {
        "id": "ak2WFR8_qr5S"
      },
      "execution_count": null,
      "outputs": []
    }
  ]
}